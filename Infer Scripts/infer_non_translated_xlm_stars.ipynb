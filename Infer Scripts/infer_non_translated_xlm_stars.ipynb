{
 "cells": [
  {
   "cell_type": "code",
   "execution_count": 1,
   "metadata": {},
   "outputs": [
    {
     "name": "stderr",
     "output_type": "stream",
     "text": [
      "/home/nalin/yes/envs/torch/lib/python3.11/site-packages/tqdm/auto.py:21: TqdmWarning: IProgress not found. Please update jupyter and ipywidgets. See https://ipywidgets.readthedocs.io/en/stable/user_install.html\n",
      "  from .autonotebook import tqdm as notebook_tqdm\n"
     ]
    }
   ],
   "source": [
    "from datasets import load_dataset\n",
    "\n",
    "dataset = load_dataset(\"hungnm/multilingual-amazon-review-sentiment-processed\")"
   ]
  },
  {
   "cell_type": "code",
   "execution_count": 2,
   "metadata": {},
   "outputs": [],
   "source": [
    "\n",
    "\n",
    "desired_features = ['stars', 'text', 'language']\n",
    "reduced_dataset = dataset.select_columns(desired_features)"
   ]
  },
  {
   "cell_type": "code",
   "execution_count": 3,
   "metadata": {},
   "outputs": [],
   "source": [
    "\n",
    "test= reduced_dataset['test']\n"
   ]
  },
  {
   "cell_type": "code",
   "execution_count": 4,
   "metadata": {},
   "outputs": [],
   "source": [
    "def remap_labels(example):\n",
    "    class_mapping = {1: 0, 2: 1, 4: 2, 5: 3}\n",
    "    example['stars'] = class_mapping.get(example['stars'])  \n",
    "    return example\n",
    "\n",
    "\n",
    "test = test.map(remap_labels)\n"
   ]
  },
  {
   "cell_type": "code",
   "execution_count": 5,
   "metadata": {},
   "outputs": [],
   "source": [
    "\n",
    "\n",
    "\n",
    "de_test=test.filter(lambda example: example['language']=='de')\n",
    "en_test=test.filter(lambda example: example['language']=='en')\n",
    "fr_test=test.filter(lambda example: example['language']=='fr')\n",
    "es_test=test.filter(lambda example: example['language']=='es')\n",
    "ja_test=test.filter(lambda example: example['language']=='ja')\n",
    "zh_test=test.filter(lambda example: example['language']=='zh')\n",
    "\n",
    "\n",
    "\n"
   ]
  },
  {
   "cell_type": "code",
   "execution_count": 6,
   "metadata": {},
   "outputs": [],
   "source": [
    "columns_needed=['stars', 'text']\n",
    "de_test = de_test.select_columns(columns_needed)\n",
    "en_test = en_test.select_columns(columns_needed)\n",
    "fr_test = fr_test.select_columns(columns_needed)\n",
    "es_test = es_test.select_columns(columns_needed)\n",
    "ja_test = ja_test.select_columns(columns_needed)\n",
    "zh_test = zh_test.select_columns(columns_needed)\n",
    "\n"
   ]
  },
  {
   "cell_type": "code",
   "execution_count": 7,
   "metadata": {},
   "outputs": [],
   "source": [
    "import torch\n",
    "from transformers import BertTokenizer, BertForSequenceClassification\n",
    "from torch.utils.data import Dataset, DataLoader\n",
    "\n",
    "class CustomDataset(Dataset):\n",
    "    def __init__(self, texts, labels, tokenizer, max_length):\n",
    "        self.texts = texts\n",
    "        self.labels = labels\n",
    "        self.tokenizer = tokenizer\n",
    "        self.max_length = max_length\n",
    "\n",
    "    def __len__(self):\n",
    "        return len(self.texts)\n",
    "\n",
    "    def __getitem__(self, idx):\n",
    "        text = self.texts[idx]\n",
    "        label = self.labels[idx]\n",
    "        encoding = self.tokenizer(text, truncation=True, padding='max_length', max_length=self.max_length, return_tensors='pt')\n",
    "        return {\n",
    "            'input_ids': encoding['input_ids'].flatten(),\n",
    "            'attention_mask': encoding['attention_mask'].flatten(),\n",
    "            'labels': torch.tensor(label, dtype=torch.long)\n",
    "        }\n",
    "\n"
   ]
  },
  {
   "cell_type": "code",
   "execution_count": 8,
   "metadata": {},
   "outputs": [
    {
     "name": "stderr",
     "output_type": "stream",
     "text": [
      "Testing: 100%|██████████| 125/125 [01:01<00:00,  2.02batch/s]"
     ]
    },
    {
     "name": "stdout",
     "output_type": "stream",
     "text": [
      "Test F1 Score: 0.6135931706514932\n",
      "Test Accuracy: 0.61625\n"
     ]
    },
    {
     "name": "stderr",
     "output_type": "stream",
     "text": [
      "\n"
     ]
    }
   ],
   "source": [
    "from transformers import XLMRobertaTokenizer, XLMRobertaForSequenceClassification\n",
    "tokenizer = XLMRobertaTokenizer.from_pretrained('xlm-roberta-base')\n",
    "test_dataset = CustomDataset(zh_test['text'], zh_test['stars'], tokenizer, 512)\n",
    "test_loader = DataLoader(test_dataset, batch_size=16 * 4, shuffle=False)\n",
    "device = torch.device('cuda')\n",
    "import torch\n",
    "from torch.utils.data import DataLoader\n",
    "\n",
    "\n",
    "# Load the pre-trained model for sequence classification\n",
    "model = XLMRobertaForSequenceClassification.from_pretrained(\"/home/nalin/ML_metaQR/trial/XLM/zh_xlm_model\").to(device)\n",
    "from tqdm import tqdm\n",
    "from sklearn.metrics import f1_score, accuracy_score\n",
    "\n",
    "test_predicted = []\n",
    "test_labels = []\n",
    "\n",
    "with torch.no_grad():\n",
    "    for batch in tqdm(test_loader, desc=\"Testing\", unit=\"batch\"):\n",
    "        inputs = batch['input_ids'].to(device)\n",
    "        attention_mask = batch['attention_mask'].to(device)\n",
    "        labels = batch['labels'].to(device)\n",
    "\n",
    "        outputs = model(input_ids=inputs, attention_mask=attention_mask)\n",
    "        logits = outputs.logits\n",
    "\n",
    "        _, predicted = torch.max(logits, 1)\n",
    "        test_predicted.extend(predicted.tolist())\n",
    "        test_labels.extend(labels.tolist())\n",
    "\n",
    "test_f1 = f1_score(test_labels, test_predicted, average='weighted')\n",
    "accuracy = accuracy_score(test_labels, test_predicted)\n",
    "\n",
    "# Print test F1 score and accuracy\n",
    "print(f\"Test F1 Score: {test_f1}\")\n",
    "print(f\"Test Accuracy: {accuracy}\")"
   ]
  },
  {
   "cell_type": "code",
   "execution_count": 9,
   "metadata": {},
   "outputs": [
    {
     "name": "stderr",
     "output_type": "stream",
     "text": [
      "Testing: 100%|██████████| 124/124 [01:02<00:00,  1.99batch/s]"
     ]
    },
    {
     "name": "stdout",
     "output_type": "stream",
     "text": [
      "Test F1 Score: 0.6120967752250155\n",
      "Test Accuracy: 0.6204241353193638\n"
     ]
    },
    {
     "name": "stderr",
     "output_type": "stream",
     "text": [
      "\n"
     ]
    }
   ],
   "source": [
    "\n",
    "test_dataset = CustomDataset(fr_test['text'], fr_test['stars'], tokenizer, 512)\n",
    "test_loader = DataLoader(test_dataset, batch_size=16 * 4, shuffle=False)\n",
    "device = torch.device('cuda')\n",
    "import torch\n",
    "from torch.utils.data import DataLoader\n",
    "\n",
    "\n",
    "# Load the pre-trained model for sequence classification\n",
    "model = XLMRobertaForSequenceClassification.from_pretrained(\"/home/nalin/ML_metaQR/trial/XLM/fr_xlm_model\").to(device)\n",
    "from tqdm import tqdm\n",
    "from sklearn.metrics import f1_score, accuracy_score\n",
    "\n",
    "test_predicted = []\n",
    "test_labels = []\n",
    "\n",
    "with torch.no_grad():\n",
    "    for batch in tqdm(test_loader, desc=\"Testing\", unit=\"batch\"):\n",
    "        inputs = batch['input_ids'].to(device)\n",
    "        attention_mask = batch['attention_mask'].to(device)\n",
    "        labels = batch['labels'].to(device)\n",
    "\n",
    "        outputs = model(input_ids=inputs, attention_mask=attention_mask)\n",
    "        logits = outputs.logits\n",
    "\n",
    "        _, predicted = torch.max(logits, 1)\n",
    "        test_predicted.extend(predicted.tolist())\n",
    "        test_labels.extend(labels.tolist())\n",
    "\n",
    "test_f1 = f1_score(test_labels, test_predicted, average='weighted')\n",
    "accuracy = accuracy_score(test_labels, test_predicted)\n",
    "\n",
    "# Print test F1 score and accuracy\n",
    "print(f\"Test F1 Score: {test_f1}\")\n",
    "print(f\"Test Accuracy: {accuracy}\")"
   ]
  },
  {
   "cell_type": "code",
   "execution_count": 10,
   "metadata": {},
   "outputs": [
    {
     "name": "stderr",
     "output_type": "stream",
     "text": [
      "Testing: 100%|██████████| 123/123 [01:02<00:00,  1.98batch/s]"
     ]
    },
    {
     "name": "stdout",
     "output_type": "stream",
     "text": [
      "Test F1 Score: 0.6494285124229336\n",
      "Test Accuracy: 0.6518971224853578\n"
     ]
    },
    {
     "name": "stderr",
     "output_type": "stream",
     "text": [
      "\n"
     ]
    }
   ],
   "source": [
    "\n",
    "test_dataset = CustomDataset(de_test['text'], de_test['stars'], tokenizer, 512)\n",
    "test_loader = DataLoader(test_dataset, batch_size=16 * 4, shuffle=False)\n",
    "device = torch.device('cuda')\n",
    "import torch\n",
    "from torch.utils.data import DataLoader\n",
    "from transformers import BertTokenizer\n",
    "from transformers import BertForSequenceClassification\n",
    "\n",
    "# Load the pre-trained model for sequence classification\n",
    "model = XLMRobertaForSequenceClassification.from_pretrained(\"/home/nalin/ML_metaQR/trial/XLM/de_xlm_model\").to(device)\n",
    "from tqdm import tqdm\n",
    "from sklearn.metrics import f1_score, accuracy_score\n",
    "\n",
    "test_predicted = []\n",
    "test_labels = []\n",
    "\n",
    "with torch.no_grad():\n",
    "    for batch in tqdm(test_loader, desc=\"Testing\", unit=\"batch\"):\n",
    "        inputs = batch['input_ids'].to(device)\n",
    "        attention_mask = batch['attention_mask'].to(device)\n",
    "        labels = batch['labels'].to(device)\n",
    "\n",
    "        outputs = model(input_ids=inputs, attention_mask=attention_mask)\n",
    "        logits = outputs.logits\n",
    "\n",
    "        _, predicted = torch.max(logits, 1)\n",
    "        test_predicted.extend(predicted.tolist())\n",
    "        test_labels.extend(labels.tolist())\n",
    "\n",
    "test_f1 = f1_score(test_labels, test_predicted, average='weighted')\n",
    "accuracy = accuracy_score(test_labels, test_predicted)\n",
    "\n",
    "# Print test F1 score and accuracy\n",
    "print(f\"Test F1 Score: {test_f1}\")\n",
    "print(f\"Test Accuracy: {accuracy}\")"
   ]
  },
  {
   "cell_type": "code",
   "execution_count": 11,
   "metadata": {},
   "outputs": [
    {
     "name": "stderr",
     "output_type": "stream",
     "text": [
      "Testing: 100%|██████████| 125/125 [01:03<00:00,  1.97batch/s]"
     ]
    },
    {
     "name": "stdout",
     "output_type": "stream",
     "text": [
      "Test F1 Score: 0.6037795836730133\n",
      "Test Accuracy: 0.6169521190148769\n"
     ]
    },
    {
     "name": "stderr",
     "output_type": "stream",
     "text": [
      "\n"
     ]
    }
   ],
   "source": [
    "\n",
    "test_dataset = CustomDataset(ja_test['text'], ja_test['stars'], tokenizer, 512)\n",
    "test_loader = DataLoader(test_dataset, batch_size=16 * 4, shuffle=False)\n",
    "device = torch.device('cuda')\n",
    "import torch\n",
    "from torch.utils.data import DataLoader\n",
    "from transformers import BertTokenizer\n",
    "from transformers import BertForSequenceClassification\n",
    "\n",
    "# Load the pre-trained model for sequence classification\n",
    "model = XLMRobertaForSequenceClassification.from_pretrained(\"/home/nalin/ML_metaQR/trial/XLM/ja_xlm_model\").to(device)\n",
    "from tqdm import tqdm\n",
    "from sklearn.metrics import f1_score, accuracy_score\n",
    "\n",
    "test_predicted = []\n",
    "test_labels = []\n",
    "\n",
    "with torch.no_grad():\n",
    "    for batch in tqdm(test_loader, desc=\"Testing\", unit=\"batch\"):\n",
    "        inputs = batch['input_ids'].to(device)\n",
    "        attention_mask = batch['attention_mask'].to(device)\n",
    "        labels = batch['labels'].to(device)\n",
    "\n",
    "        outputs = model(input_ids=inputs, attention_mask=attention_mask)\n",
    "        logits = outputs.logits\n",
    "\n",
    "        _, predicted = torch.max(logits, 1)\n",
    "        test_predicted.extend(predicted.tolist())\n",
    "        test_labels.extend(labels.tolist())\n",
    "\n",
    "test_f1 = f1_score(test_labels, test_predicted, average='weighted')\n",
    "accuracy = accuracy_score(test_labels, test_predicted)\n",
    "\n",
    "# Print test F1 score and accuracy\n",
    "print(f\"Test F1 Score: {test_f1}\")\n",
    "print(f\"Test Accuracy: {accuracy}\")"
   ]
  },
  {
   "cell_type": "code",
   "execution_count": 12,
   "metadata": {},
   "outputs": [
    {
     "name": "stderr",
     "output_type": "stream",
     "text": [
      "Testing: 100%|██████████| 124/124 [01:01<00:00,  2.01batch/s]"
     ]
    },
    {
     "name": "stdout",
     "output_type": "stream",
     "text": [
      "Test F1 Score: 0.6069780752584067\n",
      "Test Accuracy: 0.6155403695267021\n"
     ]
    },
    {
     "name": "stderr",
     "output_type": "stream",
     "text": [
      "\n"
     ]
    }
   ],
   "source": [
    "\n",
    "test_dataset = CustomDataset(es_test['text'], es_test['stars'], tokenizer, 512)\n",
    "test_loader = DataLoader(test_dataset, batch_size=16 * 4, shuffle=False)\n",
    "device = torch.device('cuda')\n",
    "import torch\n",
    "from torch.utils.data import DataLoader\n",
    "from transformers import BertTokenizer\n",
    "from transformers import BertForSequenceClassification\n",
    "\n",
    "# Load the pre-trained model for sequence classification\n",
    "model = XLMRobertaForSequenceClassification.from_pretrained(\"/home/nalin/ML_metaQR/trial/XLM/es_xlm_model\").to(device)\n",
    "from tqdm import tqdm\n",
    "from sklearn.metrics import f1_score, accuracy_score\n",
    "\n",
    "test_predicted = []\n",
    "test_labels = []\n",
    "\n",
    "with torch.no_grad():\n",
    "    for batch in tqdm(test_loader, desc=\"Testing\", unit=\"batch\"):\n",
    "        inputs = batch['input_ids'].to(device)\n",
    "        attention_mask = batch['attention_mask'].to(device)\n",
    "        labels = batch['labels'].to(device)\n",
    "\n",
    "        outputs = model(input_ids=inputs, attention_mask=attention_mask)\n",
    "        logits = outputs.logits\n",
    "\n",
    "        _, predicted = torch.max(logits, 1)\n",
    "        test_predicted.extend(predicted.tolist())\n",
    "        test_labels.extend(labels.tolist())\n",
    "\n",
    "test_f1 = f1_score(test_labels, test_predicted, average='weighted')\n",
    "accuracy = accuracy_score(test_labels, test_predicted)\n",
    "\n",
    "# Print test F1 score and accuracy\n",
    "print(f\"Test F1 Score: {test_f1}\")\n",
    "print(f\"Test Accuracy: {accuracy}\")"
   ]
  },
  {
   "cell_type": "code",
   "execution_count": null,
   "metadata": {},
   "outputs": [],
   "source": []
  }
 ],
 "metadata": {
  "kernelspec": {
   "display_name": "torch",
   "language": "python",
   "name": "python3"
  },
  "language_info": {
   "codemirror_mode": {
    "name": "ipython",
    "version": 3
   },
   "file_extension": ".py",
   "mimetype": "text/x-python",
   "name": "python",
   "nbconvert_exporter": "python",
   "pygments_lexer": "ipython3",
   "version": "3.11.8"
  }
 },
 "nbformat": 4,
 "nbformat_minor": 2
}
