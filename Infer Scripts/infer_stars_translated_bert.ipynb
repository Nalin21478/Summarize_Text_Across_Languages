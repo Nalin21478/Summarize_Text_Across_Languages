{
 "cells": [
  {
   "cell_type": "code",
   "execution_count": 48,
   "metadata": {},
   "outputs": [],
   "source": [
    "import json\n",
    "\n",
    "combined_data_de = []\n",
    "\n",
    "# Load data from each JSON file, extract 'en' and 'stars', and append them to the combined_data list\n",
    "files = [\n",
    "    # \"/home/nalin/ML_metaQR/trial/translated_test_jsons/de_test_en.json\",\n",
    "    # \"/home/nalin/ML_metaQR/trial/translated_test_jsons/es_test_en.json\",\n",
    "    # \"/home/nalin/ML_metaQR/trial/translated_test_jsons/fr_test_en.json\"\n",
    "    # \"/home/nalin/ML_metaQR/trial/translated_test_jsons/ja_test_en.json\",\n",
    "    \"/home/nalin/ML_metaQR/trial/translated_test_jsons/zh_test_en.json\"\n",
    "]\n",
    "\n",
    "for file_path in files:\n",
    "    with open(file_path) as f:\n",
    "        data = json.load(f)\n",
    "        for item in data:\n",
    "            combined_data_de.append({'en': item['en'], 'stars': item['stars']})\n",
    "\n"
   ]
  },
  {
   "cell_type": "code",
   "execution_count": 49,
   "metadata": {},
   "outputs": [],
   "source": [
    "def remap_labels(example):\n",
    "    class_mapping = {1: 0, 2: 1, 4: 2, 5: 3}\n",
    "    example['stars'] = class_mapping.get(example['stars'])  \n",
    "    return example\n",
    "\n",
    "\n",
    "combined_data_test = [remap_labels(example) for example in combined_data_de]\n",
    "\n",
    "\n"
   ]
  },
  {
   "cell_type": "code",
   "execution_count": 50,
   "metadata": {},
   "outputs": [],
   "source": [
    "from torch.utils.data import Dataset\n",
    "import torch\n",
    "class CustomDataset(Dataset):\n",
    "    def __init__(self, texts, labels, tokenizer, max_length):\n",
    "        self.texts = texts\n",
    "        self.labels = labels\n",
    "        self.tokenizer = tokenizer\n",
    "        self.max_length = max_length\n",
    "\n",
    "    def __len__(self):\n",
    "        return len(self.texts)\n",
    "\n",
    "    def __getitem__(self, idx):\n",
    "        text = self.texts[idx]\n",
    "        label = self.labels[idx]\n",
    "        \n",
    "        # Tokenize text\n",
    "        encoding = self.tokenizer(\n",
    "            text,\n",
    "            truncation=True,\n",
    "            padding='max_length',\n",
    "            max_length=self.max_length,\n",
    "            return_tensors='pt'\n",
    "        )\n",
    "        \n",
    "        # Extract input IDs and attention masks\n",
    "        input_ids = encoding['input_ids'].flatten()\n",
    "        attention_mask = encoding['attention_mask'].flatten()\n",
    "        \n",
    "        return {\n",
    "            'input_ids': input_ids,\n",
    "            'attention_mask': attention_mask,\n",
    "            'labels': torch.tensor(label, dtype=torch.long)\n",
    "        }\n"
   ]
  },
  {
   "cell_type": "code",
   "execution_count": 51,
   "metadata": {},
   "outputs": [
    {
     "name": "stderr",
     "output_type": "stream",
     "text": [
      "Testing: 100%|██████████| 125/125 [01:06<00:00,  1.89batch/s]"
     ]
    },
    {
     "name": "stdout",
     "output_type": "stream",
     "text": [
      "Test F1 Score: 0.540879460997924\n",
      "Test Accuracy: 0.542875\n"
     ]
    },
    {
     "name": "stderr",
     "output_type": "stream",
     "text": [
      "\n"
     ]
    }
   ],
   "source": [
    "import torch\n",
    "from torch.utils.data import DataLoader\n",
    "from transformers import BertTokenizer\n",
    "from transformers import BertForSequenceClassification\n",
    "\n",
    "# Load the pre-trained model for sequence classification\n",
    "model = BertForSequenceClassification.from_pretrained(\"/home/nalin/ML_metaQR/trial/translated_bert/translated_bert_model_stars\")\n",
    "from tqdm import tqdm\n",
    "from sklearn.metrics import f1_score, accuracy_score\n",
    "\n",
    "# Define device\n",
    "device = torch.device(\"cuda\" if torch.cuda.is_available() else \"cpu\")\n",
    "\n",
    "model.to(device)\n",
    "model.eval()  \n",
    "\n",
    "\n",
    "tokenizer = BertTokenizer.from_pretrained('bert-base-uncased')\n",
    "\n",
    "\n",
    "test_dataset = CustomDataset([item['en'] for item in combined_data_de], [item['stars'] for item in combined_data_de], tokenizer, 512)\n",
    "test_loader = DataLoader(test_dataset, batch_size=64, shuffle=True)\n",
    "\n",
    "test_predicted = []\n",
    "test_labels = []\n",
    "\n",
    "with torch.no_grad():\n",
    "    for batch in tqdm(test_loader, desc=\"Testing\", unit=\"batch\"):\n",
    "        inputs = batch['input_ids'].to(device)\n",
    "        attention_mask = batch['attention_mask'].to(device)\n",
    "        labels = batch['labels'].to(device)\n",
    "\n",
    "        outputs = model(input_ids=inputs, attention_mask=attention_mask)\n",
    "        logits = outputs.logits\n",
    "\n",
    "        _, predicted = torch.max(logits, 1)\n",
    "        test_predicted.extend(predicted.tolist())\n",
    "        test_labels.extend(labels.tolist())\n",
    "\n",
    "test_f1 = f1_score(test_labels, test_predicted, average='weighted')\n",
    "accuracy = accuracy_score(test_labels, test_predicted)\n",
    "\n",
    "# Print test F1 score and accuracy\n",
    "print(f\"Test F1 Score: {test_f1}\")\n",
    "print(f\"Test Accuracy: {accuracy}\")\n"
   ]
  },
  {
   "cell_type": "code",
   "execution_count": null,
   "metadata": {},
   "outputs": [],
   "source": []
  }
 ],
 "metadata": {
  "kernelspec": {
   "display_name": "torch",
   "language": "python",
   "name": "python3"
  },
  "language_info": {
   "codemirror_mode": {
    "name": "ipython",
    "version": 3
   },
   "file_extension": ".py",
   "mimetype": "text/x-python",
   "name": "python",
   "nbconvert_exporter": "python",
   "pygments_lexer": "ipython3",
   "version": "3.11.8"
  }
 },
 "nbformat": 4,
 "nbformat_minor": 2
}
