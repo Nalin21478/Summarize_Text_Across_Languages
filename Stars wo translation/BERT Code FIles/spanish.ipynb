{
 "cells": [
  {
   "cell_type": "code",
   "execution_count": null,
   "metadata": {},
   "outputs": [],
   "source": [
    "from datasets import load_dataset\n",
    "\n",
    "dataset = load_dataset(\"hungnm/multilingual-amazon-review-sentiment-processed\")"
   ]
  },
  {
   "cell_type": "code",
   "execution_count": null,
   "metadata": {},
   "outputs": [],
   "source": [
    "\n",
    "\n",
    "desired_features = ['stars', 'text', 'language']\n",
    "reduced_dataset = dataset.select_columns(desired_features)"
   ]
  },
  {
   "cell_type": "code",
   "execution_count": null,
   "metadata": {},
   "outputs": [],
   "source": [
    "dataset"
   ]
  },
  {
   "cell_type": "code",
   "execution_count": null,
   "metadata": {},
   "outputs": [],
   "source": [
    "reduced_dataset"
   ]
  },
  {
   "cell_type": "markdown",
   "metadata": {},
   "source": []
  },
  {
   "cell_type": "code",
   "execution_count": null,
   "metadata": {},
   "outputs": [],
   "source": []
  },
  {
   "cell_type": "code",
   "execution_count": null,
   "metadata": {},
   "outputs": [],
   "source": [
    "train= reduced_dataset['train']\n",
    "test= reduced_dataset['test']\n",
    "val= reduced_dataset['validation']"
   ]
  },
  {
   "cell_type": "code",
   "execution_count": null,
   "metadata": {},
   "outputs": [],
   "source": [
    "set(list(val['stars']))"
   ]
  },
  {
   "cell_type": "code",
   "execution_count": null,
   "metadata": {},
   "outputs": [],
   "source": [
    "def remap_labels(example):\n",
    "    class_mapping = {1: 0, 2: 1, 4: 2, 5: 3}\n",
    "    example['stars'] = class_mapping.get(example['stars'])  \n",
    "    return example\n",
    "\n",
    "train = train.map(remap_labels)\n",
    "val = val.map(remap_labels)\n",
    "test = test.map(remap_labels)\n"
   ]
  },
  {
   "cell_type": "code",
   "execution_count": null,
   "metadata": {},
   "outputs": [],
   "source": [
    "set(list(test['stars']))"
   ]
  },
  {
   "cell_type": "code",
   "execution_count": null,
   "metadata": {},
   "outputs": [],
   "source": [
    "\n",
    "languages_train=set(list(test['language']))\n",
    "languages_test=set(list(train['language']))\n",
    "languages_val=set(list(val['language']))\n"
   ]
  },
  {
   "cell_type": "code",
   "execution_count": null,
   "metadata": {},
   "outputs": [],
   "source": [
    "languages_train,languages_test,languages_val"
   ]
  },
  {
   "cell_type": "code",
   "execution_count": null,
   "metadata": {},
   "outputs": [],
   "source": [
    "# English, Japanese, German, French, Chinese and Spanish"
   ]
  },
  {
   "cell_type": "code",
   "execution_count": null,
   "metadata": {},
   "outputs": [],
   "source": []
  },
  {
   "cell_type": "code",
   "execution_count": null,
   "metadata": {},
   "outputs": [],
   "source": [
    "\n",
    "de_train=train.filter(lambda example: example['language']=='de')\n",
    "en_train=train.filter(lambda example: example['language']=='en')\n",
    "fr_train=train.filter(lambda example: example['language']=='fr')\n",
    "es_train=train.filter(lambda example: example['language']=='es')\n",
    "ja_train=train.filter(lambda example: example['language']=='ja')\n",
    "zh_train=train.filter(lambda example: example['language']=='zh')\n",
    "\n",
    "de_test=test.filter(lambda example: example['language']=='de')\n",
    "en_test=test.filter(lambda example: example['language']=='en')\n",
    "fr_test=test.filter(lambda example: example['language']=='fr')\n",
    "es_test=test.filter(lambda example: example['language']=='es')\n",
    "ja_test=test.filter(lambda example: example['language']=='ja')\n",
    "zh_test=test.filter(lambda example: example['language']=='zh')\n",
    "\n",
    "de_val=val.filter(lambda example: example['language']=='de')\n",
    "en_val=val.filter(lambda example: example['language']=='en')\n",
    "fr_val=val.filter(lambda example: example['language']=='fr')\n",
    "es_val=val.filter(lambda example: example['language']=='es')\n",
    "ja_val=val.filter(lambda example: example['language']=='ja')\n",
    "zh_val=val.filter(lambda example: example['language']=='zh')\n",
    "\n"
   ]
  },
  {
   "cell_type": "code",
   "execution_count": null,
   "metadata": {},
   "outputs": [],
   "source": [
    "de_train"
   ]
  },
  {
   "cell_type": "code",
   "execution_count": null,
   "metadata": {},
   "outputs": [],
   "source": [
    "de_train_lang=set(list(de_train['language']))\n",
    "en_train_lang=set(list(en_train['language']))\n",
    "fr_train_lang=set(list(fr_train['language']))\n",
    "es_train_lang=set(list(es_train['language']))\n",
    "ja_train_lang=set(list(ja_train['language']))\n",
    "zh_train_lang=set(list(zh_train['language']))\n",
    "\n",
    "de_test_lang=set(list(de_test['language']))\n",
    "en_test_lang=set(list(en_test['language']))\n",
    "fr_test_lang=set(list(fr_test['language']))\n",
    "es_test_lang=set(list(es_test['language']))\n",
    "ja_test_lang=set(list(ja_test['language']))\n",
    "zh_test_lang=set(list(zh_test['language']))\n",
    "\n",
    "de_val_lang=set(list(de_val['language']))\n",
    "en_val_lang=set(list(en_val['language']))\n",
    "fr_val_lang=set(list(fr_val['language']))\n",
    "es_val_lang=set(list(es_val['language']))\n",
    "ja_val_lang=set(list(ja_val['language']))\n",
    "zh_val_lang=set(list(zh_val['language']))\n"
   ]
  },
  {
   "cell_type": "code",
   "execution_count": null,
   "metadata": {},
   "outputs": [],
   "source": [
    "de_train_lang,en_train_lang,fr_train_lang,es_train_lang,ja_train_lang,zh_train_lang\n"
   ]
  },
  {
   "cell_type": "code",
   "execution_count": null,
   "metadata": {},
   "outputs": [],
   "source": [
    "de_test_lang,en_test_lang,fr_test_lang,es_test_lang,ja_test_lang,zh_test_lang\n"
   ]
  },
  {
   "cell_type": "code",
   "execution_count": null,
   "metadata": {},
   "outputs": [],
   "source": [
    "de_val_lang,en_val_lang,fr_val_lang,es_val_lang,ja_val_lang,zh_val_lang"
   ]
  },
  {
   "cell_type": "code",
   "execution_count": null,
   "metadata": {},
   "outputs": [],
   "source": [
    "columns_needed=['stars', 'text']\n",
    "de_train = de_train.select_columns(columns_needed)\n",
    "en_train = en_train.select_columns(columns_needed)\n",
    "fr_train = fr_train.select_columns(columns_needed)\n",
    "es_train = es_train.select_columns(columns_needed)\n",
    "ja_train = ja_train.select_columns(columns_needed)\n",
    "zh_train = zh_train.select_columns(columns_needed)\n",
    "\n"
   ]
  },
  {
   "cell_type": "code",
   "execution_count": null,
   "metadata": {},
   "outputs": [],
   "source": [
    "de_test = de_test.select_columns(columns_needed)\n",
    "en_test = en_test.select_columns(columns_needed)\n",
    "fr_test = fr_test.select_columns(columns_needed)\n",
    "es_test = es_test.select_columns(columns_needed)\n",
    "ja_test = ja_test.select_columns(columns_needed)\n",
    "zh_test = zh_test.select_columns(columns_needed)\n"
   ]
  },
  {
   "cell_type": "code",
   "execution_count": null,
   "metadata": {},
   "outputs": [],
   "source": [
    "de_val = de_val.select_columns(columns_needed)\n",
    "en_val = en_val.select_columns(columns_needed)\n",
    "fr_val = fr_val.select_columns(columns_needed)\n",
    "es_val = es_val.select_columns(columns_needed)\n",
    "ja_val = ja_val.select_columns(columns_needed)\n",
    "zh_val = zh_val.select_columns(columns_needed)\n"
   ]
  },
  {
   "cell_type": "code",
   "execution_count": null,
   "metadata": {},
   "outputs": [],
   "source": [
    "import torch\n",
    "from transformers import BertTokenizer, BertForSequenceClassification\n",
    "from torch.utils.data import Dataset, DataLoader\n",
    "\n",
    "class CustomDataset(Dataset):\n",
    "    def __init__(self, texts, labels, tokenizer, max_length):\n",
    "        self.texts = texts\n",
    "        self.labels = labels\n",
    "        self.tokenizer = tokenizer\n",
    "        self.max_length = max_length\n",
    "\n",
    "    def __len__(self):\n",
    "        return len(self.texts)\n",
    "\n",
    "    def __getitem__(self, idx):\n",
    "        text = self.texts[idx]\n",
    "        label = self.labels[idx]\n",
    "        encoding = self.tokenizer(text, truncation=True, padding='max_length', max_length=self.max_length, return_tensors='pt')\n",
    "        return {\n",
    "            'input_ids': encoding['input_ids'].flatten(),\n",
    "            'attention_mask': encoding['attention_mask'].flatten(),\n",
    "            'labels': torch.tensor(label, dtype=torch.long)\n",
    "        }\n",
    "\n"
   ]
  },
  {
   "cell_type": "code",
   "execution_count": null,
   "metadata": {},
   "outputs": [],
   "source": [
    "tokenizer = BertTokenizer.from_pretrained('dccuchile/bert-base-spanish-wwm-cased')"
   ]
  },
  {
   "cell_type": "code",
   "execution_count": null,
   "metadata": {},
   "outputs": [],
   "source": [
    "\n",
    "\n",
    "from collections import defaultdict\n",
    "import random\n",
    "max_length=512\n",
    "train_dataset = CustomDataset(es_train['text'], es_train['stars'], tokenizer, max_length)\n",
    "\n",
    "\n",
    "\n",
    "from torch.utils.data import random_split, DataLoader\n",
    "\n",
    "# Define the desired number of entries\n",
    "desired_num_entries = 50000\n",
    "\n",
    "\n",
    "# Split the train dataset to get the desired number of entries\n",
    "train_dataset_subset, _ = random_split(train_dataset, [desired_num_entries, len(train_dataset) - desired_num_entries])\n",
    "\n",
    "val_dataset = CustomDataset(es_val['text'], es_val['stars'], tokenizer, max_length)\n",
    "test_dataset = CustomDataset(es_test['text'], es_test['stars'], tokenizer, max_length)\n",
    "from torch.utils.data import Dataset, DataLoader\n",
    "\n",
    "train_loader = DataLoader(train_dataset_subset, batch_size=16*4, shuffle=True)\n",
    "val_loader = DataLoader(val_dataset, batch_size=16*4, shuffle=False)\n",
    "test_loader = DataLoader(test_dataset, batch_size=16*4, shuffle=False)\n",
    "\n"
   ]
  },
  {
   "cell_type": "code",
   "execution_count": null,
   "metadata": {},
   "outputs": [],
   "source": [
    "from collections import defaultdict\n",
    "import random\n",
    "from torch.utils.data import Subset\n",
    "\n",
    "from torch.utils.data import random_split, DataLoader\n",
    "\n",
    "# Define the desired number of entries\n",
    "desired_num_entries = 50000\n",
    "\n",
    "# Define a dictionary to store indices for each class\n",
    "class_indices = defaultdict(list)\n",
    "\n",
    "# Populate the dictionary with indices for each class\n",
    "for idx, label in enumerate(de_train['stars']):\n",
    "    class_indices[label].append(idx)\n",
    "\n",
    "# Sample an equal number of entries from each class\n",
    "sampled_indices = []\n",
    "for label, indices in class_indices.items():\n",
    "    sampled_indices.extend(random.sample(indices, desired_num_entries // len(class_indices)))\n",
    "\n",
    "# Create a subset of the train dataset with the sampled indices\n",
    "train_dataset_subset = Subset(train_dataset, sampled_indices)\n",
    "\n",
    "# Create DataLoaders for train, validation, and test datasets\n",
    "train_loader = DataLoader(train_dataset_subset, batch_size=16 * 4, shuffle=True)\n",
    "val_loader = DataLoader(val_dataset, batch_size=16 * 4, shuffle=False)\n",
    "test_loader = DataLoader(test_dataset, batch_size=16 * 4, shuffle=False)\n"
   ]
  },
  {
   "cell_type": "code",
   "execution_count": null,
   "metadata": {},
   "outputs": [],
   "source": [
    "from collections import Counter\n",
    "\n",
    "# Initialize a Counter to count the occurrences of each label\n",
    "label_counter = Counter()\n",
    "\n",
    "# Iterate through the train_dataset_subset to count labels\n",
    "for sample in train_dataset_subset:\n",
    "    label = sample['labels']  # Assuming 'label' is the key for the label in your dataset\n",
    "    label_counter[label] += 1\n",
    "\n",
    "# Print the count of each label\n",
    "print(\"Label Counts in Train Dataset Subset:\")\n",
    "for label, count in label_counter.items():\n",
    "    print(f\"Label {label}: {count} samples\")\n"
   ]
  },
  {
   "cell_type": "code",
   "execution_count": 26,
   "metadata": {},
   "outputs": [
    {
     "name": "stderr",
     "output_type": "stream",
     "text": [
      "Some weights of BertForSequenceClassification were not initialized from the model checkpoint at dccuchile/bert-base-spanish-wwm-cased and are newly initialized: ['bert.pooler.dense.bias', 'bert.pooler.dense.weight', 'classifier.bias', 'classifier.weight']\n",
      "You should probably TRAIN this model on a down-stream task to be able to use it for predictions and inference.\n"
     ]
    }
   ],
   "source": [
    "device = torch.device('cuda')\n",
    "model = BertForSequenceClassification.from_pretrained('dccuchile/bert-base-spanish-wwm-cased', num_labels=4).to(device)\n",
    "\n"
   ]
  },
  {
   "cell_type": "code",
   "execution_count": 27,
   "metadata": {},
   "outputs": [
    {
     "name": "stderr",
     "output_type": "stream",
     "text": [
      "                                                                \r"
     ]
    },
    {
     "name": "stdout",
     "output_type": "stream",
     "text": [
      "Epoch 1/3, Train Loss: 0.8307131493792814, Validation Loss: 0.7929589577740238, F1 Score: 0.6226843015373091\n"
     ]
    },
    {
     "name": "stderr",
     "output_type": "stream",
     "text": [
      "                                                                \r"
     ]
    },
    {
     "name": "stdout",
     "output_type": "stream",
     "text": [
      "Epoch 2/3, Train Loss: 0.7143091424118222, Validation Loss: 0.8110910706943081, F1 Score: 0.6110648009190457\n"
     ]
    },
    {
     "name": "stderr",
     "output_type": "stream",
     "text": [
      "                                                                \r"
     ]
    },
    {
     "name": "stdout",
     "output_type": "stream",
     "text": [
      "Epoch 3/3, Train Loss: 0.6330449170316271, Validation Loss: 0.8298890347923001, F1 Score: 0.6156500351000752\n"
     ]
    },
    {
     "data": {
      "image/png": "[encoded data removed]",
      "text/plain": [
       "<Figure size 1000x500 with 1 Axes>"
      ]
     },
     "metadata": {},
     "output_type": "display_data"
    },
    {
     "data": {
      "image/png": "[encoded data removed]",
      "text/plain": [
       "<Figure size 1000x500 with 1 Axes>"
      ]
     },
     "metadata": {},
     "output_type": "display_data"
    }
   ],
   "source": [
    "import torch\n",
    "from tqdm import tqdm\n",
    "from sklearn.metrics import f1_score\n",
    "\n",
    "# Define optimizer\n",
    "optimizer = torch.optim.AdamW(model.parameters(), lr=2e-5)\n",
    "\n",
    "# Initialize lists to store losses and f1 scores\n",
    "train_losses = []\n",
    "val_losses = []\n",
    "f1_scores = []\n",
    "\n",
    "num_epochs = 3\n",
    "for epoch in range(num_epochs):\n",
    "    # Training\n",
    "    model.train()\n",
    "    train_loss = 0.0\n",
    "    for batch in tqdm(train_loader, desc=f'Epoch {epoch+1}/{num_epochs}', unit='batch', leave=False):\n",
    "        input_ids = batch['input_ids'].to(device)\n",
    "        attention_mask = batch['attention_mask'].to(device)\n",
    "        labels = batch['labels'].to(device)\n",
    "        \n",
    "        optimizer.zero_grad()\n",
    "        outputs = model(input_ids, attention_mask=attention_mask, labels=labels)\n",
    "        loss = outputs.loss\n",
    "        loss.backward()\n",
    "        optimizer.step()\n",
    "        \n",
    "        train_loss += loss.item()\n",
    "    \n",
    "    # Compute average training loss for the epoch\n",
    "    train_loss /= len(train_loader)\n",
    "    train_losses.append(train_loss)\n",
    "    \n",
    "    # Validation\n",
    "    model.eval()\n",
    "    val_loss = 0.0\n",
    "    val_predicted = []\n",
    "    val_labels = []\n",
    "    with torch.no_grad():\n",
    "        for batch in tqdm(val_loader, desc='Validation', unit='batch', leave=False):\n",
    "            input_ids = batch['input_ids'].to(device)\n",
    "            attention_mask = batch['attention_mask'].to(device)\n",
    "            labels = batch['labels'].to(device)\n",
    "            \n",
    "            outputs = model(input_ids, attention_mask=attention_mask, labels=labels)\n",
    "            loss = outputs.loss\n",
    "            logits = outputs.logits\n",
    "            \n",
    "            val_loss += loss.item()  # Accumulate validation loss\n",
    "            \n",
    "            _, predicted = torch.max(logits, 1)\n",
    "            val_predicted.extend(predicted.tolist())\n",
    "            val_labels.extend(labels.tolist())\n",
    "            \n",
    "    # Compute average validation loss for the epoch\n",
    "    val_loss /= len(val_loader)\n",
    "    val_losses.append(val_loss)\n",
    "\n",
    "    # Compute F1 score for the epoch\n",
    "    f1 = f1_score(val_labels, val_predicted, average='weighted')\n",
    "    f1_scores.append(f1)\n",
    "\n",
    "    # Print epoch results\n",
    "    print(f\"Epoch {epoch+1}/{num_epochs}, Train Loss: {train_loss}, Validation Loss: {val_loss}, F1 Score: {f1}\")\n",
    "\n",
    "\n",
    "# Plot training and validation loss curves\n",
    "import matplotlib.pyplot as plt\n",
    "\n",
    "plt.figure(figsize=(10, 5))\n",
    "plt.plot(train_losses, label='Train Loss')\n",
    "plt.plot(val_losses, label='Validation Loss')\n",
    "plt.xlabel('Epoch')\n",
    "plt.ylabel('Loss')\n",
    "plt.title('Training and Validation Loss')\n",
    "plt.legend()\n",
    "plt.show()\n",
    "\n",
    "# Plot F1 score curve\n",
    "plt.figure(figsize=(10, 5))\n",
    "plt.plot(f1_scores, label='F1 Score')\n",
    "plt.xlabel('Epoch')\n",
    "plt.ylabel('F1 Score')\n",
    "plt.title('F1 Score')\n",
    "\n",
    "plt.legend()\n",
    "plt.show()\n"
   ]
  },
  {
   "cell_type": "code",
   "execution_count": 28,
   "metadata": {},
   "outputs": [
    {
     "name": "stderr",
     "output_type": "stream",
     "text": [
      "                                                             "
     ]
    },
    {
     "name": "stdout",
     "output_type": "stream",
     "text": [
      "Test F1 Score: 0.6226772106611865\n",
      "Test Accuracy: 0.6254112882814478\n"
     ]
    },
    {
     "name": "stderr",
     "output_type": "stream",
     "text": [
      "\r"
     ]
    }
   ],
   "source": [
    "# Test\n",
    "model.eval()\n",
    "test_predicted = []\n",
    "test_labels = []\n",
    "with torch.no_grad():\n",
    "    for batch in tqdm(test_loader, desc='Testing', unit='batch', leave=False):\n",
    "        input_ids = batch['input_ids'].to(device)\n",
    "        attention_mask = batch['attention_mask'].to(device)\n",
    "        labels = batch['labels'].to(device)\n",
    "        \n",
    "        outputs = model(input_ids, attention_mask=attention_mask)\n",
    "        logits = outputs.logits\n",
    "        \n",
    "        _, predicted = torch.max(logits, 1)\n",
    "        test_predicted.extend(predicted.tolist())\n",
    "        test_labels.extend(labels.tolist())\n",
    "\n",
    "# Compute F1 score for the test data\n",
    "test_f1 = f1_score(test_labels, test_predicted, average='weighted')\n",
    "\n",
    "from sklearn.metrics import accuracy_score\n",
    "accuracy = accuracy_score(test_labels, test_predicted)\n",
    "\n",
    "# Print test F1 score\n",
    "print(f\"Test F1 Score: {test_f1}\")\n",
    "print(f\"Test Accuracy: {accuracy}\")\n",
    "ßßßßßßß"
   ]
  },
  {
   "cell_type": "code",
   "execution_count": 29,
   "metadata": {},
   "outputs": [],
   "source": [
    "# save the model\n",
    "model.save_pretrained(\"es_model\")"
   ]
  },
  {
   "cell_type": "code",
   "execution_count": null,
   "metadata": {},
   "outputs": [],
   "source": []
  }
 ],
 "metadata": {
  "kernelspec": {
   "display_name": "torch",
   "language": "python",
   "name": "python3"
  },
  "language_info": {
   "codemirror_mode": {
    "name": "ipython",
    "version": 3
   },
   "file_extension": ".py",
   "mimetype": "text/x-python",
   "name": "python",
   "nbconvert_exporter": "python",
   "pygments_lexer": "ipython3",
   "version": "3.11.8"
  }
 },
 "nbformat": 4,
 "nbformat_minor": 2
}
