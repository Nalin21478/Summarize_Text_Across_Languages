{
 "cells": [
  {
   "cell_type": "code",
   "execution_count": null,
   "metadata": {},
   "outputs": [],
   "source": [
    "from datasets import load_dataset\n",
    "\n",
    "dataset = load_dataset(\"hungnm/multilingual-amazon-review-sentiment-processed\")"
   ]
  },
  {
   "cell_type": "code",
   "execution_count": 21,
   "metadata": {},
   "outputs": [],
   "source": [
    "desired_features = ['stars', 'text', 'language']\n",
    "reduced_dataset = dataset.select_columns(desired_features)"
   ]
  },
  {
   "cell_type": "code",
   "execution_count": 22,
   "metadata": {},
   "outputs": [
    {
     "data": {
      "text/plain": [
       "DatasetDict({\n",
       "    train: Dataset({\n",
       "        features: ['stars', 'text', 'language'],\n",
       "        num_rows: 1325529\n",
       "    })\n",
       "    validation: Dataset({\n",
       "        features: ['stars', 'text', 'language'],\n",
       "        num_rows: 47490\n",
       "    })\n",
       "    test: Dataset({\n",
       "        features: ['stars', 'text', 'language'],\n",
       "        num_rows: 47488\n",
       "    })\n",
       "})"
      ]
     },
     "execution_count": 22,
     "metadata": {},
     "output_type": "execute_result"
    }
   ],
   "source": [
    "reduced_dataset"
   ]
  },
  {
   "cell_type": "code",
   "execution_count": 23,
   "metadata": {},
   "outputs": [],
   "source": [
    "train= reduced_dataset['train']\n",
    "test= reduced_dataset['test']\n",
    "val= reduced_dataset['validation']"
   ]
  },
  {
   "cell_type": "code",
   "execution_count": 34,
   "metadata": {},
   "outputs": [],
   "source": [
    "\n",
    "languages_train=set(list(test['language']))\n",
    "languages_test=set(list(train['language']))\n",
    "languages_val=set(list(val['language']))\n"
   ]
  },
  {
   "cell_type": "code",
   "execution_count": 35,
   "metadata": {},
   "outputs": [
    {
     "data": {
      "text/plain": [
       "({'de', 'en', 'es', 'fr', 'ja', 'zh'},\n",
       " {'de', 'en', 'es', 'fr', 'ja', 'zh'},\n",
       " {'de', 'en', 'es', 'fr', 'ja', 'zh'})"
      ]
     },
     "execution_count": 35,
     "metadata": {},
     "output_type": "execute_result"
    }
   ],
   "source": [
    "languages_train,languages_test,languages_val"
   ]
  },
  {
   "cell_type": "code",
   "execution_count": 33,
   "metadata": {},
   "outputs": [],
   "source": [
    "# English, Japanese, German, French, Chinese and Spanish"
   ]
  },
  {
   "cell_type": "code",
   "execution_count": 36,
   "metadata": {},
   "outputs": [
    {
     "name": "stdout",
     "output_type": "stream",
     "text": [
      "4 洗完不干，非常舒服，就是手洗完了有点脱皮。不知道是不是因为是碱性的原因 zh\n",
      "1 Leider kann ich nicht bewerten weil die Päckchen bei mir nicht angekommen ist. de\n",
      "4 Está aceptable, pero al subirme bambolea un poco. No cómo para que me pueda caer, pero tampoco es super estable. es\n",
      "5 音楽取り込みに買いました。 新しくパソコン買ったら、前の外づけハードディスク使えなくて、壊れたのかと、新しいの探していました。 読み込みの速度は取り込んだ？一瞬でした。 薄くて軽く、持ち運びには便利です。読み取る際の音も非常に静かで作業に気にならない程度でした。 新しく買ってよかったです。 ja\n",
      "5 Lichterkette kam schnell und gut verpackt bei mir an. Sie ist in einem einwandfreien Zustand, funktioniert also alles. Die Kette hat eine angenehme Länge und macht auch ein angenehmes Licht, der einzige Manko ist das die netzschnur etwas sehr kurz ist, das könnte man vielleicht in Zukunft mal ändern. Gut hingegen finde ich das die Kette am Ende einen Stecker hat um mit einer anderen Kette verlängert zu werden, wirklich tolle Idee, preis Leistung ist in Ordnung. de\n",
      "4 Es un poco grande, pero está bien. Podría ser más grande el espacio para poner el estropajo. es\n",
      "5 Fonctionne parfaitement bien, il est de bonne manufacture et sa charge est optimale. Satisfait de mon achat je le recommande fr\n",
      "4 First tried this at a vacation rental. Gave my kiddo sense of independence and confidence. Gave me the ability to let go. I was with him in the water, but I didn’t have to be in constant contact. Way more fun for both of us. en\n",
      "5 Lo mejor la simplicidad de dejarlos en la base de carga inalámbrica de mi mesilla y tenerlos cargados sin tener que enchufarlos. es\n",
      "2 I have not yet received the \"Mommy To Be\" White Lace Sash and \"Dad To Be\" Pin Pack. On-line it stated that it was delivered on April 8th accompanied by the 2 Grandma To Be Pins in the residence mailbox. I received the 2 Grandma To Be Pins but not the other order. Please check into this matter ASAP. Perhaps its a delay or mishap. en\n"
     ]
    }
   ],
   "source": [
    "\n",
    "for i in range(10):\n",
    "    print(train['stars'][i],train['text'][i],train['language'][i])"
   ]
  },
  {
   "cell_type": "code",
   "execution_count": 45,
   "metadata": {},
   "outputs": [
    {
     "name": "stderr",
     "output_type": "stream",
     "text": [
      "Filter: 100%|██████████| 47488/47488 [00:00<00:00, 95531.75 examples/s] \n",
      "Filter: 100%|██████████| 47488/47488 [00:00<00:00, 155021.29 examples/s]\n",
      "Filter: 100%|██████████| 47488/47488 [00:00<00:00, 154297.15 examples/s]\n",
      "Filter: 100%|██████████| 47488/47488 [00:00<00:00, 157179.61 examples/s]\n",
      "Filter: 100%|██████████| 47488/47488 [00:00<00:00, 156960.62 examples/s]\n",
      "Filter: 100%|██████████| 47488/47488 [00:00<00:00, 156843.58 examples/s]\n",
      "Filter: 100%|██████████| 47490/47490 [00:00<00:00, 151954.90 examples/s]\n",
      "Filter: 100%|██████████| 47490/47490 [00:00<00:00, 147614.96 examples/s]\n",
      "Filter: 100%|██████████| 47490/47490 [00:00<00:00, 154892.92 examples/s]\n",
      "Filter: 100%|██████████| 47490/47490 [00:00<00:00, 162288.33 examples/s]\n",
      "Filter: 100%|██████████| 47490/47490 [00:00<00:00, 160440.61 examples/s]\n",
      "Filter: 100%|██████████| 47490/47490 [00:00<00:00, 147652.17 examples/s]\n"
     ]
    }
   ],
   "source": [
    "\n",
    "de_train=train.filter(lambda example: example['language']=='de')\n",
    "en_train=train.filter(lambda example: example['language']=='en')\n",
    "fr_train=train.filter(lambda example: example['language']=='fr')\n",
    "es_train=train.filter(lambda example: example['language']=='es')\n",
    "ja_train=train.filter(lambda example: example['language']=='ja')\n",
    "zh_train=train.filter(lambda example: example['language']=='zh')\n",
    "\n",
    "de_test=test.filter(lambda example: example['language']=='de')\n",
    "en_test=test.filter(lambda example: example['language']=='en')\n",
    "fr_test=test.filter(lambda example: example['language']=='fr')\n",
    "es_test=test.filter(lambda example: example['language']=='es')\n",
    "ja_test=test.filter(lambda example: example['language']=='ja')\n",
    "zh_test=test.filter(lambda example: example['language']=='zh')\n",
    "\n",
    "de_val=val.filter(lambda example: example['language']=='de')\n",
    "en_val=val.filter(lambda example: example['language']=='en')\n",
    "fr_val=val.filter(lambda example: example['language']=='fr')\n",
    "es_val=val.filter(lambda example: example['language']=='es')\n",
    "ja_val=val.filter(lambda example: example['language']=='ja')\n",
    "zh_val=val.filter(lambda example: example['language']=='zh')\n",
    "\n"
   ]
  },
  {
   "cell_type": "code",
   "execution_count": 44,
   "metadata": {},
   "outputs": [
    {
     "data": {
      "text/plain": [
       "Dataset({\n",
       "    features: ['stars', 'text', 'language'],\n",
       "    num_rows: 218695\n",
       "})"
      ]
     },
     "execution_count": 44,
     "metadata": {},
     "output_type": "execute_result"
    }
   ],
   "source": [
    "de_train"
   ]
  },
  {
   "cell_type": "code",
   "execution_count": 46,
   "metadata": {},
   "outputs": [],
   "source": [
    "de_train_lang=set(list(de_train['language']))\n",
    "en_train_lang=set(list(en_train['language']))\n",
    "fr_train_lang=set(list(fr_train['language']))\n",
    "es_train_lang=set(list(es_train['language']))\n",
    "ja_train_lang=set(list(ja_train['language']))\n",
    "zh_train_lang=set(list(zh_train['language']))\n",
    "\n",
    "de_test_lang=set(list(de_test['language']))\n",
    "en_test_lang=set(list(en_test['language']))\n",
    "fr_test_lang=set(list(fr_test['language']))\n",
    "es_test_lang=set(list(es_test['language']))\n",
    "ja_test_lang=set(list(ja_test['language']))\n",
    "zh_test_lang=set(list(zh_test['language']))\n",
    "\n",
    "de_val_lang=set(list(de_val['language']))\n",
    "en_val_lang=set(list(en_val['language']))\n",
    "fr_val_lang=set(list(fr_val['language']))\n",
    "es_val_lang=set(list(es_val['language']))\n",
    "ja_val_lang=set(list(ja_val['language']))\n",
    "zh_val_lang=set(list(zh_val['language']))\n"
   ]
  },
  {
   "cell_type": "code",
   "execution_count": 49,
   "metadata": {},
   "outputs": [
    {
     "data": {
      "text/plain": [
       "({'de'}, {'en'}, {'fr'}, {'es'}, {'ja'}, {'zh'})"
      ]
     },
     "execution_count": 49,
     "metadata": {},
     "output_type": "execute_result"
    }
   ],
   "source": [
    "de_train_lang,en_train_lang,fr_train_lang,es_train_lang,ja_train_lang,zh_train_lang\n"
   ]
  },
  {
   "cell_type": "code",
   "execution_count": 50,
   "metadata": {},
   "outputs": [
    {
     "data": {
      "text/plain": [
       "({'de'}, {'en'}, {'fr'}, {'es'}, {'ja'}, {'zh'})"
      ]
     },
     "execution_count": 50,
     "metadata": {},
     "output_type": "execute_result"
    }
   ],
   "source": [
    "de_test_lang,en_test_lang,fr_test_lang,es_test_lang,ja_test_lang,zh_test_lang\n"
   ]
  },
  {
   "cell_type": "code",
   "execution_count": 51,
   "metadata": {},
   "outputs": [
    {
     "data": {
      "text/plain": [
       "({'de'}, {'en'}, {'fr'}, {'es'}, {'ja'}, {'zh'})"
      ]
     },
     "execution_count": 51,
     "metadata": {},
     "output_type": "execute_result"
    }
   ],
   "source": [
    "de_val_lang,en_val_lang,fr_val_lang,es_val_lang,ja_val_lang,zh_val_lang"
   ]
  },
  {
   "cell_type": "code",
   "execution_count": null,
   "metadata": {},
   "outputs": [],
   "source": []
  }
 ],
 "metadata": {
  "kernelspec": {
   "display_name": "torch",
   "language": "python",
   "name": "python3"
  },
  "language_info": {
   "codemirror_mode": {
    "name": "ipython",
    "version": 3
   },
   "file_extension": ".py",
   "mimetype": "text/x-python",
   "name": "python",
   "nbconvert_exporter": "python",
   "pygments_lexer": "ipython3",
   "version": "3.11.8"
  }
 },
 "nbformat": 4,
 "nbformat_minor": 2
}
